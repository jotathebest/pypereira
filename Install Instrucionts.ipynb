{
 "cells": [
  {
   "cell_type": "markdown",
   "metadata": {},
   "source": [
    "# Install Instructions\n",
    "\n",
    "## Install Firefox\n",
    "```\n",
    "$ sudo apt-get install firefox\n",
    "```\n",
    "\n",
    "## Install pip\n",
    "```\n",
    "$ wget https://bootstrap.pypa.io/get-pip.py\n",
    "$ sudo python3 get-pip.py\n",
    "```\n",
    "\n",
    "## Install virtualenvwrapper\n",
    "```\n",
    "$ sudo pip3 install virtualenv virtualenvwrapper\n",
    "$ export VIRTUALENVWRAPPER_PYTHON=/usr/bin/python3\n",
    "$ export WORKON_HOME=$HOME/.virtualenvs\n",
    "$ source /usr/local/bin/virtualenvwrapper.sh\n",
    "$ source ~/.bashrc\n",
    "```\n",
    "\n",
    "## Create a new virtualenv labeled as pypereira\n",
    "```\n",
    "$ mkvirtualenv -p python3 pypereira\n",
    "$ workon pypereira\n",
    "```\n",
    "\n",
    "## Install dependencies\n",
    "```\n",
    "$ sudo apt-get install --no-install-recommends --no-install-suggests -y python-dev libtbb2 libtbb-dev libjpeg-dev libpng-dev libtiff-dev libjasper-dev libdc1394-22-dev python3.5-dev libgtk-3-dev libgtk2.0-dev\n",
    "$ pip install numpy\n",
    "$ pip install opencv-contrib-python\n",
    "$ pip install selenium\n",
    "$ pip install requests\n",
    "$ pip install imutils\n",
    "$ pip install jupyter\n",
    "$ pip install matplotlib\n",
    "```\n",
    "\n",
    "## Install geckodriver\n",
    "```\n",
    "$ cd ~\n",
    "$ mkdir pypereira\n",
    "$ cd pypereira\n",
    "$ wget https://github.com/mozilla/geckodriver/releases/download/v0.19.1/geckodriver-v0.19.1-linux64.tar.gz\n",
    "$ tar -xvf geckodriver-v0.19.1-linux64.tar.gz\n",
    "$ chmod +x geckodriver\n",
    "$ sudo mv geckodriver /usr/local/bin/\n",
    "$ sudo apt-get install --no-install-recommends --no-install-suggests -y xvfb\n",
    "```\n"
   ]
  },
  {
   "cell_type": "markdown",
   "metadata": {},
   "source": [
    "# Test your environment and library installation\n",
    "\n",
    "Go to the pypereir folder\n",
    "\n",
    "```\n",
    "$ cd ~\n",
    "$ cd pypereira\n",
    "```"
   ]
  },
  {
   "cell_type": "code",
   "execution_count": 2,
   "metadata": {},
   "outputs": [
    {
     "data": {
      "text/plain": [
       "'3.4.0'"
      ]
     },
     "execution_count": 2,
     "metadata": {},
     "output_type": "execute_result"
    }
   ],
   "source": [
    "# Test your openCV version\n",
    "import cv2\n",
    "\n",
    "cv2.__version__  # Prints the opencv version, it should be greatere than 3.3"
   ]
  },
  {
   "cell_type": "code",
   "execution_count": 4,
   "metadata": {},
   "outputs": [],
   "source": [
    "# Test your selenium installation\n",
    "from selenium import webdriver\n",
    "\n",
    "browser = webdriver.Firefox()  # creates a webdriver Firefox instance\n",
    "browser.get(\"http://www.google.com\")  # makes a get to google"
   ]
  },
  {
   "cell_type": "markdown",
   "metadata": {},
   "source": [
    "Create a new folder to store a screencapture of the website\n",
    "\n",
    "```\n",
    "$ mkdir screeencaptures\n",
    "```"
   ]
  },
  {
   "cell_type": "code",
   "execution_count": 5,
   "metadata": {},
   "outputs": [
    {
     "data": {
      "text/plain": [
       "True"
      ]
     },
     "execution_count": 5,
     "metadata": {},
     "output_type": "execute_result"
    }
   ],
   "source": [
    "# Save a screencapture inside your folder\n",
    "\n",
    "browser.save_screenshot(\"screencaptures/screencapture.png\")"
   ]
  },
  {
   "cell_type": "markdown",
   "metadata": {},
   "source": [
    "you should have saved inside your folder a new screencapture."
   ]
  },
  {
   "cell_type": "code",
   "execution_count": 6,
   "metadata": {},
   "outputs": [],
   "source": [
    "# Close your actual browser\n",
    "\n",
    "browser.quit()"
   ]
  },
  {
   "cell_type": "markdown",
   "metadata": {},
   "source": [
    "# Finished\n",
    "\n",
    "Congrats!!! you have installed all the libraries for the workshop, welcome!!! "
   ]
  },
  {
   "cell_type": "code",
   "execution_count": null,
   "metadata": {},
   "outputs": [],
   "source": []
  }
 ],
 "metadata": {
  "kernelspec": {
   "display_name": "Python 3",
   "language": "python",
   "name": "python3"
  },
  "language_info": {
   "codemirror_mode": {
    "name": "ipython",
    "version": 3
   },
   "file_extension": ".py",
   "mimetype": "text/x-python",
   "name": "python",
   "nbconvert_exporter": "python",
   "pygments_lexer": "ipython3",
   "version": "3.5.2"
  }
 },
 "nbformat": 4,
 "nbformat_minor": 2
}

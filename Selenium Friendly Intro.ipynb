{
 "cells": [
  {
   "cell_type": "markdown",
   "metadata": {},
   "source": [
    "# Selenium\n",
    "\n",
    "Selenium is a nice tool for creating web scrappers. It can be used with C, Java and Python libraries and it is very popular for testing websites using browsers like Firefox, Chrome or Phantom.\n",
    "\n",
    "In this small module we will review the basics of the usage of the Selenium python library"
   ]
  },
  {
   "cell_type": "code",
   "execution_count": 1,
   "metadata": {},
   "outputs": [],
   "source": [
    "# Getting a website URL\n",
    "\n",
    "from selenium import webdriver\n",
    "\n",
    "browser = webdriver.Firefox()\n",
    "url = \"http://www.google.com\"\n",
    "browser.get(url)"
   ]
  },
  {
   "cell_type": "code",
   "execution_count": 7,
   "metadata": {},
   "outputs": [
    {
     "data": {
      "text/plain": [
       "True"
      ]
     },
     "execution_count": 7,
     "metadata": {},
     "output_type": "execute_result"
    }
   ],
   "source": [
    "# Let's save a screencapture of the website\n",
    "\n",
    "browser.save_screenshot(\"screencaptures/google_website.png\")"
   ]
  },
  {
   "cell_type": "markdown",
   "metadata": {},
   "source": [
    "With the command above, we retrieve all the information from the website url.\n",
    "\n",
    "Selenium have different tools to retrieve some parts of a website, let's extract the Google logo using its unique id"
   ]
  },
  {
   "cell_type": "code",
   "execution_count": 6,
   "metadata": {},
   "outputs": [
    {
     "data": {
      "text/plain": [
       "True"
      ]
     },
     "execution_count": 6,
     "metadata": {},
     "output_type": "execute_result"
    }
   ],
   "source": [
    "# Searchs the logo by its unique id\n",
    "logo = browser.find_element_by_id(\"hplogo\")\n",
    "\n",
    "# Saves a screencapture\n",
    "logo.screenshot(\"screencaptures/google_logo.png\")"
   ]
  },
  {
   "cell_type": "code",
   "execution_count": 11,
   "metadata": {},
   "outputs": [],
   "source": [
    "# Let's retrieve all the elements with a custom class id\n",
    "\n",
    "elements = browser.find_elements_by_class_name(\"ctr-p\")\n",
    "for (i, element) in enumerate(elements):\n",
    "    element.screenshot(\"screencaptures/ctr-p-{}.png\".format(i))"
   ]
  },
  {
   "cell_type": "markdown",
   "metadata": {},
   "source": [
    "We can implement also different logic routines to interact with the website, let's perform a google search"
   ]
  },
  {
   "cell_type": "code",
   "execution_count": 18,
   "metadata": {},
   "outputs": [],
   "source": [
    "from selenium import webdriver\n",
    "from selenium.webdriver.support.ui import WebDriverWait\n",
    "from selenium.webdriver.common.keys import Keys\n",
    "import time\n",
    "\n",
    "# Loads the Url\n",
    "browser.get(url)\n",
    "\n",
    "# Waits at least 5 seconds to load the website\n",
    "time.sleep(5)\n",
    "\n",
    "# Searches for the text box and performs a search\n",
    "text_box = browser.find_element_by_id(\"lst-ib\")\n",
    "text_box.send_keys(\"Pereira, the most beatiful city from Colombia\")\n",
    "text_box.send_keys(Keys.ENTER)"
   ]
  },
  {
   "cell_type": "markdown",
   "metadata": {},
   "source": [
    "nice!! now let's look into the first result"
   ]
  },
  {
   "cell_type": "code",
   "execution_count": 25,
   "metadata": {},
   "outputs": [],
   "source": [
    "element = browser.find_element_by_class_name(\"bkWMgd\")\n",
    "element.click()"
   ]
  },
  {
   "cell_type": "markdown",
   "metadata": {},
   "source": [
    "Nice, but why should we wait 5 seconds always until the page is loaded? It is a waste of time but we need to be sure that our text box has been loaded, so let's use th wait selenium utility"
   ]
  },
  {
   "cell_type": "code",
   "execution_count": 26,
   "metadata": {},
   "outputs": [],
   "source": [
    "from selenium.webdriver.common.by import By\n",
    "from selenium.webdriver.support import expected_conditions as EC\n",
    "\n",
    "timeout = 5\n",
    "\n",
    "try:\n",
    "    # Loads the website\n",
    "    browser.get(url)\n",
    "    \n",
    "    # Waits up to 5 seconds to load the website\n",
    "    element = WebDriverWait(browser, timeout).until(\n",
    "                EC.presence_of_element_located((By.ID, \"lst-ib\"))\n",
    "            )\n",
    "    # Searches for the text box and performs a search\n",
    "    text_box = browser.find_element_by_id(\"lst-ib\")\n",
    "    text_box.send_keys(\"Pereira, the most beatiful city from Colombia\")\n",
    "    text_box.send_keys(Keys.ENTER)\n",
    "except:\n",
    "    print(\"[ERROR] could not get the textbox to make the search\")\n",
    "    pass\n"
   ]
  },
  {
   "cell_type": "code",
   "execution_count": 28,
   "metadata": {},
   "outputs": [],
   "source": [
    "# Let's come back to the initial page\n",
    "\n",
    "browser.back()"
   ]
  },
  {
   "cell_type": "code",
   "execution_count": 29,
   "metadata": {},
   "outputs": [],
   "source": [
    "# Let's come back to the search results page\n",
    "\n",
    "browser.forward()"
   ]
  },
  {
   "cell_type": "code",
   "execution_count": 46,
   "metadata": {},
   "outputs": [],
   "source": [
    "# Let's move inside our webpage\n",
    "\n",
    "elements = browser.find_elements_by_class_name(\"rc\")\n",
    "element = elements[0]\n",
    "for element in elements:\n",
    "    (x, y) = (element.location['x'], element.location['y'])\n",
    "    js_action = \"window.scrollTo({}, {});\".format(x, y)\n",
    "    browser.execute_script(js_action)\n",
    "    time.sleep(3)"
   ]
  },
  {
   "cell_type": "markdown",
   "metadata": {},
   "source": [
    "Nice, these are the basics Of selenium. If you wish to know more, just reference the official website docs: http://selenium-python.readthedocs.io/"
   ]
  },
  {
   "cell_type": "code",
   "execution_count": 47,
   "metadata": {},
   "outputs": [],
   "source": [
    "# Close the actual browser instance\n",
    "\n",
    "browser.quit()"
   ]
  },
  {
   "cell_type": "code",
   "execution_count": null,
   "metadata": {},
   "outputs": [],
   "source": []
  }
 ],
 "metadata": {
  "kernelspec": {
   "display_name": "Python 3",
   "language": "python",
   "name": "python3"
  },
  "language_info": {
   "codemirror_mode": {
    "name": "ipython",
    "version": 3
   },
   "file_extension": ".py",
   "mimetype": "text/x-python",
   "name": "python",
   "nbconvert_exporter": "python",
   "pygments_lexer": "ipython3",
   "version": "3.5.2"
  }
 },
 "nbformat": 4,
 "nbformat_minor": 2
}

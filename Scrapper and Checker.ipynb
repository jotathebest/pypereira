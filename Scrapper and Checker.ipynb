{
 "cells": [
  {
   "cell_type": "markdown",
   "metadata": {},
   "source": [
    "# Project\n",
    "\n",
    "The project's objetive will be to create an scrapper that checks the portfolio section of the webpage. It will be divided into three main sections:\n",
    "\n",
    "* Scrapper: This section will retrieve an image from the website section that belongs to the portfolio\n",
    "* Image Checker: This section will check the image retrieved by the scrapper with a previous expected template\n",
    "* Checker: Our main module, this section is intended to implement the main logic of our website tester\n",
    "\n",
    "## Scrapper"
   ]
  },
  {
   "cell_type": "code",
   "execution_count": 1,
   "metadata": {},
   "outputs": [],
   "source": [
    "# import packages\n",
    "from selenium import webdriver"
   ]
  },
  {
   "cell_type": "code",
   "execution_count": 5,
   "metadata": {},
   "outputs": [],
   "source": [
    "# Create a browser instance and gets the web page\n",
    "browser = webdriver.Firefox()\n",
    "browser.get(\"file:///home/jota/pypereira/websites/magnum-template/index.html\")"
   ]
  },
  {
   "cell_type": "code",
   "execution_count": 17,
   "metadata": {},
   "outputs": [
    {
     "data": {
      "text/plain": [
       "5"
      ]
     },
     "execution_count": 17,
     "metadata": {},
     "output_type": "execute_result"
    }
   ],
   "source": [
    "# The goal is to check the portfolio section, so let's look all the elements with the class 'page-scroll'\n",
    "page_scroll_objects = browser.find_elements_by_class_name(\"page-scroll\")\n",
    "len(page_scroll_objects)"
   ]
  },
  {
   "cell_type": "code",
   "execution_count": 18,
   "metadata": {},
   "outputs": [
    {
     "name": "stdout",
     "output_type": "stream",
     "text": [
      "LEARN MORE\n",
      "ABOUT\n",
      "PORTFOLIO\n",
      "CONTACT\n",
      "MY PORTFOLIO\n"
     ]
    }
   ],
   "source": [
    "# As there are 5 elements, we need to loop over them to know which one is the portfolio link button\n",
    "for obj in page_scroll_objects:\n",
    "    print(obj.text)"
   ]
  },
  {
   "cell_type": "code",
   "execution_count": 16,
   "metadata": {},
   "outputs": [
    {
     "data": {
      "text/plain": [
       "selenium.webdriver.firefox.webelement.FirefoxWebElement"
      ]
     },
     "execution_count": 16,
     "metadata": {},
     "output_type": "execute_result"
    }
   ],
   "source": [
    "portfolio = None\n",
    "for obj in page_scroll_objects:\n",
    "    if obj.text == \"PORTFOLIO\":\n",
    "        portfolio = obj\n",
    "        break\n",
    "\n",
    "# Check the type of portfolio, it should be a selenium object\n",
    "type(portfolio)"
   ]
  },
  {
   "cell_type": "code",
   "execution_count": 19,
   "metadata": {},
   "outputs": [],
   "source": [
    "# Makes click on the element\n",
    "\n",
    "portfolio.click()"
   ]
  },
  {
   "cell_type": "code",
   "execution_count": 23,
   "metadata": {},
   "outputs": [
    {
     "data": {
      "text/plain": [
       "True"
      ]
     },
     "execution_count": 23,
     "metadata": {},
     "output_type": "execute_result"
    }
   ],
   "source": [
    "# Takes a screencapture\n",
    "browser.save_screenshot(\"screencaptures/portfolio_template.png\")"
   ]
  },
  {
   "cell_type": "markdown",
   "metadata": {},
   "source": [
    "Nice, you have created a scrapper to retrieve information from the website. Now let's compile all of this in a function to make easier to call it later"
   ]
  },
  {
   "cell_type": "code",
   "execution_count": 44,
   "metadata": {},
   "outputs": [],
   "source": [
    "# Function to create the scrapper of the navbar\n",
    "from selenium import webdriver\n",
    "import time\n",
    "\n",
    "def scrapper_navbar(url, section_name, path_to_store, template=False):\n",
    "    '''@url: The url of the website\n",
    "       @section_name: The navbar section name\n",
    "       @path_to_store: The path where the images will be stored\n",
    "       @template: If True, saves a template with the section name\n",
    "    '''\n",
    "    \n",
    "    browser = webdriver.Firefox()\n",
    "    browser.get(\"file:///home/jota/pypereira/websites/magnum-template/index.html\")\n",
    "    page_scroll_objects = browser.find_elements_by_class_name(\"page-scroll\")\n",
    "    \n",
    "    section = None\n",
    "    for obj in page_scroll_objects:\n",
    "        if obj.text == \"PORTFOLIO\":\n",
    "            section = obj\n",
    "            break\n",
    "\n",
    "    # Check the type of portfolio, it should be a selenium object\n",
    "    if section is None:\n",
    "        print(\"[Error getting the navbar section]\")\n",
    "        return None\n",
    "    \n",
    "    # Makes click on the button section\n",
    "    section.click()\n",
    "    time.sleep(5)\n",
    "    \n",
    "    # Conditional to create a template\n",
    "    if template:\n",
    "        file_path = \"{}/template_{}.png\".format(path_to_store, section_name.lower())\n",
    "        result = browser.save_screenshot(file_path)\n",
    "        browser.quit()\n",
    "        return result\n",
    "    \n",
    "    file_path = \"{}/test_{}.png\".format(path_to_store, section_name.lower())\n",
    "    result = browser.save_screenshot(file_path)\n",
    "    browser.quit()\n",
    "    return result   \n",
    "    \n",
    "    "
   ]
  },
  {
   "cell_type": "code",
   "execution_count": 33,
   "metadata": {},
   "outputs": [
    {
     "data": {
      "text/plain": [
       "True"
      ]
     },
     "execution_count": 33,
     "metadata": {},
     "output_type": "execute_result"
    }
   ],
   "source": [
    "# Tests your function\n",
    "\n",
    "url = \"file:///home/jota/pypereira/websites/magnum-template/index.html\"\n",
    "section_name = \"PORTFOLIO\"\n",
    "path_to_store = \"/home/jota/pypereira/screencaptures/\"\n",
    "\n",
    "# Let's create a template\n",
    "\n",
    "scrapper_navbar(url, section, path_to_store, template=True)"
   ]
  },
  {
   "cell_type": "code",
   "execution_count": 34,
   "metadata": {},
   "outputs": [
    {
     "data": {
      "text/plain": [
       "True"
      ]
     },
     "execution_count": 34,
     "metadata": {},
     "output_type": "execute_result"
    }
   ],
   "source": [
    "# Let's create a testing image\n",
    "\n",
    "scrapper_navbar(url, section, path_to_store)"
   ]
  },
  {
   "cell_type": "markdown",
   "metadata": {},
   "source": [
    "You should have now two images that belongs to the portfolio testing and template, nice! :)\n",
    "\n",
    "# Image Checker\n",
    "\n",
    "Now let's create an image checker with the OpenCV concepts that we have learned"
   ]
  },
  {
   "cell_type": "code",
   "execution_count": 35,
   "metadata": {},
   "outputs": [],
   "source": [
    "def image_comparator(path_to_store, section_name):\n",
    "    '''\n",
    "       @section_name: The navbar section name\n",
    "       @path_to_store: The path where the images will be stored\n",
    "    '''\n",
    "    template_path = \"{}/template_{}.png\".format(path_to_store, section_name.lower())\n",
    "    testing_path = \"{}/test_{}.png\".format(path_to_store, section_name.lower())\n",
    "    template = cv2.imread(template_path)\n",
    "    testing = cv2.imread(testing_path)\n",
    "    \n",
    "    if template is None or testing is None:\n",
    "        print(\"[ERROR] could not load images, please check your section name\")\n",
    "        return None\n",
    "    \n",
    "    template_gray = cv2.cvtColor(template, cv2.COLOR_RGB2GRAY)\n",
    "    testing_gray = cv2.cvtColor(testing, cv2.COLOR_RGB2GRAY)\n",
    "\n",
    "    # Applies a bitwise XOR operation that will return one only if some pixel is different\n",
    "    xor = np.bitwise_xor(template_gray, testing_gray)\n",
    "    ones = cv2.countNonZero(xor)\n",
    "\n",
    "    return ones > 0\n"
   ]
  },
  {
   "cell_type": "markdown",
   "metadata": {},
   "source": [
    "This function compares if two images (our test image and the template) are equals or not. First we attempt to load the images giving as argument the path and the section to analyze. The function assumes that you will have two images with the section name that begin with 'template_' and 'test_' respectively.\n",
    "\n",
    "Returns True if any difference is found."
   ]
  },
  {
   "cell_type": "code",
   "execution_count": 36,
   "metadata": {},
   "outputs": [],
   "source": [
    "def store_differences(path_to_store, section_name):\n",
    "    '''\n",
    "       @section_name: The navbar section name\n",
    "       @path_to_store: The path where the images will be stored\n",
    "    '''\n",
    "    template_path = \"{}/template_{}.png\".format(path_to_store, section_name.lower())\n",
    "    testing_path = \"{}/test_{}.png\".format(path_to_store, section_name.lower())\n",
    "    template = cv2.imread(template_path)\n",
    "    testing = cv2.imread(testing_path)\n",
    "    \n",
    "    if template is None or testing is None:\n",
    "        print(\"[ERROR] could not load images, please check your section name\")\n",
    "        return None\n",
    "    \n",
    "    # Find differences\n",
    "    result = cv2.absdiff(template, testing)\n",
    "    gray = cv2.cvtColor(result, cv2.COLOR_BGR2GRAY)\n",
    "    ret, thresh = cv2.threshold(gray, 1, 255, 0)\n",
    "    \n",
    "    # Find contours\n",
    "    cnts = cv2.findContours(thresh, cv2.RETR_TREE, cv2.CHAIN_APPROX_SIMPLE)[1]\n",
    "    cv2.drawContours(result, cnts, -1, (0, 0, 255), 1)\n",
    "    \n",
    "    # Store the differences\n",
    "    file_path = \"{}/differences_{}.png\".format(path_to_store, section_name.lower())\n",
    "    return cv2.imwrite(file_path, result)"
   ]
  },
  {
   "cell_type": "markdown",
   "metadata": {},
   "source": [
    "This function was taken literally from our OpenCV lesson, it loads both images to be read, applieas absolute differences and find and draw the contours of them. Finally, it stores the differences mask."
   ]
  },
  {
   "cell_type": "markdown",
   "metadata": {},
   "source": [
    "## Checker\n",
    "\n",
    "Let's finish implementing our main algorithm"
   ]
  },
  {
   "cell_type": "code",
   "execution_count": 46,
   "metadata": {},
   "outputs": [],
   "source": [
    "def checker(url, section_name, path_to_store, template=False):\n",
    "    '''\n",
    "    @url: The url of the website\n",
    "    @section_name: The navbar section name\n",
    "    @path_to_store: The path where the images will be stored\n",
    "    @template: If True, saves a template with the section name\n",
    "    '''\n",
    "    \n",
    "    # Creates a template\n",
    "    if template:\n",
    "        print(\"[INFO] Attempting to store template\")\n",
    "        result = scrapper_navbar(url, section_name, path_to_store, template=template)\n",
    "        if not result or result is None:\n",
    "            print(\"[ERROR] Could not save your template\")\n",
    "            return result\n",
    "    \n",
    "    # Creates a test image\n",
    "    test = scrapper_navbar(url, section, path_to_store)\n",
    "    if not test or test is None:\n",
    "        print(\"[ERROR] Could not save your test image\")\n",
    "        return result\n",
    "    \n",
    "    # Compares images\n",
    "    result = image_comparator(path_to_store, section_name)\n",
    "    if result:  # Images are different\n",
    "        print(\"[INFO] Images are different, storing difference mask\")\n",
    "        stored = store_differences(path_to_store, section_name)\n",
    "        if not stored:\n",
    "            print(\"[ERROR] could not store the difference mask\")\n",
    "            return stored\n",
    "        print(\"[INFO] difference mask stored\")\n",
    "        return stored\n",
    "    \n",
    "    print(\"[INFO] Images are equal, your deployment did not affect your website!\")\n",
    "    return result"
   ]
  },
  {
   "cell_type": "code",
   "execution_count": 47,
   "metadata": {},
   "outputs": [
    {
     "name": "stdout",
     "output_type": "stream",
     "text": [
      "[INFO] Images are equal, your deployment did not affect your website!\n"
     ]
    },
    {
     "data": {
      "text/plain": [
       "False"
      ]
     },
     "execution_count": 47,
     "metadata": {},
     "output_type": "execute_result"
    }
   ],
   "source": [
    "# let's test the checker\n",
    "url = \"file:///home/jota/pypereira/websites/magnum-template/index.html\"\n",
    "section_name = \"PORTFOLIO\"\n",
    "path_to_store = \"/home/jota/pypereira/screencaptures/\"\n",
    "\n",
    "checker(url, section_name, path_to_store, template=False)"
   ]
  },
  {
   "cell_type": "markdown",
   "metadata": {},
   "source": [
    "Now go to the magnum website folder and open the index.html file in a text editor. Go to line 95 and edit the portfolio header, change it for any word that you wish, I will change it for 'portafolio' which is not an english word. Run the scrapper again and test if it finds this small but not desired difference"
   ]
  },
  {
   "cell_type": "code",
   "execution_count": 49,
   "metadata": {},
   "outputs": [
    {
     "name": "stdout",
     "output_type": "stream",
     "text": [
      "[INFO] Images are different, storing difference mask\n",
      "[INFO] difference mask stored\n"
     ]
    },
    {
     "data": {
      "text/plain": [
       "True"
      ]
     },
     "execution_count": 49,
     "metadata": {},
     "output_type": "execute_result"
    }
   ],
   "source": [
    "checker(url, section_name, path_to_store, template=False)"
   ]
  },
  {
   "cell_type": "markdown",
   "metadata": {},
   "source": [
    "Below the result image\n",
    "\n",
    "<img src=\"screencaptures/differences_portfolio_test_1.png\">"
   ]
  },
  {
   "cell_type": "markdown",
   "metadata": {},
   "source": [
    "Now let's make another test, edit the line 95 of index.html again and let the header again as 'portfolio'.\n",
    "\n",
    "Go to the CSS folder and open the 'style.css' file. Edit the line 11 and change the color to ```#777```, this is a small change but again we want to retrieve ANY change in our deployments"
   ]
  },
  {
   "cell_type": "code",
   "execution_count": 52,
   "metadata": {},
   "outputs": [
    {
     "name": "stdout",
     "output_type": "stream",
     "text": [
      "[INFO] Images are different, storing difference mask\n",
      "[INFO] difference mask stored\n"
     ]
    },
    {
     "data": {
      "text/plain": [
       "True"
      ]
     },
     "execution_count": 52,
     "metadata": {},
     "output_type": "execute_result"
    }
   ],
   "source": [
    "checker(url, section_name, path_to_store, template=False)"
   ]
  },
  {
   "cell_type": "markdown",
   "metadata": {},
   "source": [
    "Below the result image\n",
    "\n",
    "<img src=\"screencaptures/differences_portfolio_test_2.png\">\n",
    "\n",
    "Nice, you know the basics about how to use OpenCV and Selenium for scrapper and testing purposes!! :)"
   ]
  },
  {
   "cell_type": "code",
   "execution_count": null,
   "metadata": {},
   "outputs": [],
   "source": []
  }
 ],
 "metadata": {
  "kernelspec": {
   "display_name": "Python 3",
   "language": "python",
   "name": "python3"
  },
  "language_info": {
   "codemirror_mode": {
    "name": "ipython",
    "version": 3
   },
   "file_extension": ".py",
   "mimetype": "text/x-python",
   "name": "python",
   "nbconvert_exporter": "python",
   "pygments_lexer": "ipython3",
   "version": "3.5.2"
  }
 },
 "nbformat": 4,
 "nbformat_minor": 2
}
